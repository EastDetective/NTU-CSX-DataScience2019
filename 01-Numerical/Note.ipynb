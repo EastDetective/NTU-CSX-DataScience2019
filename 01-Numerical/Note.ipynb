{
 "cells": [
  {
   "cell_type": "markdown",
   "metadata": {},
   "source": [
    "# Personal Note on Numerical Data Visualization with Pandas"
   ]
  },
  {
   "cell_type": "code",
   "execution_count": 7,
   "metadata": {},
   "outputs": [
    {
     "data": {
      "text/html": [
       "<div>\n",
       "<style scoped>\n",
       "    .dataframe tbody tr th:only-of-type {\n",
       "        vertical-align: middle;\n",
       "    }\n",
       "\n",
       "    .dataframe tbody tr th {\n",
       "        vertical-align: top;\n",
       "    }\n",
       "\n",
       "    .dataframe thead th {\n",
       "        text-align: right;\n",
       "    }\n",
       "</style>\n",
       "<table border=\"1\" class=\"dataframe\">\n",
       "  <thead>\n",
       "    <tr style=\"text-align: right;\">\n",
       "      <th></th>\n",
       "      <th>RPI</th>\n",
       "      <th>TamSui</th>\n",
       "      <th>ZengWen</th>\n",
       "      <th>DaJia</th>\n",
       "      <th>TouQian</th>\n",
       "      <th>FengShan</th>\n",
       "    </tr>\n",
       "  </thead>\n",
       "  <tbody>\n",
       "    <tr>\n",
       "      <th>0</th>\n",
       "      <td>RPI&lt;=2.0</td>\n",
       "      <td>231.5</td>\n",
       "      <td>111.0</td>\n",
       "      <td>140.2</td>\n",
       "      <td>55.3</td>\n",
       "      <td>38.9</td>\n",
       "    </tr>\n",
       "    <tr>\n",
       "      <th>1</th>\n",
       "      <td>2.0&lt;RPI&lt;=3.0</td>\n",
       "      <td>31.5</td>\n",
       "      <td>23.8</td>\n",
       "      <td>0.0</td>\n",
       "      <td>2.4</td>\n",
       "      <td>4.1</td>\n",
       "    </tr>\n",
       "    <tr>\n",
       "      <th>2</th>\n",
       "      <td>3.1&lt;RPI&lt;=6.0</td>\n",
       "      <td>48.7</td>\n",
       "      <td>3.7</td>\n",
       "      <td>0.0</td>\n",
       "      <td>5.3</td>\n",
       "      <td>2.4</td>\n",
       "    </tr>\n",
       "    <tr>\n",
       "      <th>3</th>\n",
       "      <td>RPI&gt;6.0</td>\n",
       "      <td>11.7</td>\n",
       "      <td>0.0</td>\n",
       "      <td>0.0</td>\n",
       "      <td>0.0</td>\n",
       "      <td>0.0</td>\n",
       "    </tr>\n",
       "  </tbody>\n",
       "</table>\n",
       "</div>"
      ],
      "text/plain": [
       "            RPI  TamSui  ZengWen  DaJia  TouQian  FengShan\n",
       "0      RPI<=2.0   231.5    111.0  140.2     55.3      38.9\n",
       "1  2.0<RPI<=3.0    31.5     23.8    0.0      2.4       4.1\n",
       "2  3.1<RPI<=6.0    48.7      3.7    0.0      5.3       2.4\n",
       "3       RPI>6.0    11.7      0.0    0.0      0.0       0.0"
      ]
     },
     "execution_count": 7,
     "metadata": {},
     "output_type": "execute_result"
    }
   ],
   "source": [
    "# Make your plot output stored in the notebook.\n",
    "%matplotlib inline\n",
    "\n",
    "import pandas\n",
    "import matplotlib\n",
    "import numpy as np\n",
    "from matplotlib import pyplot as plt\n",
    "matplotlib.style.use('ggplot')\n",
    "\n",
    "dat = pandas.read_csv('river_pollution.csv')\n",
    "dat"
   ]
  },
  {
   "cell_type": "markdown",
   "metadata": {},
   "source": [
    "## Select a specific column"
   ]
  },
  {
   "cell_type": "code",
   "execution_count": 14,
   "metadata": {},
   "outputs": [
    {
     "data": {
      "text/plain": [
       "0    231.5\n",
       "1     31.5\n",
       "2     48.7\n",
       "3     11.7\n",
       "Name: TamSui, dtype: float64"
      ]
     },
     "execution_count": 14,
     "metadata": {},
     "output_type": "execute_result"
    }
   ],
   "source": [
    "dat[dat.columns[1]]"
   ]
  },
  {
   "cell_type": "code",
   "execution_count": 15,
   "metadata": {},
   "outputs": [
    {
     "data": {
      "text/plain": [
       "[231.5, 31.5, 48.7, 11.7]"
      ]
     },
     "execution_count": 15,
     "metadata": {},
     "output_type": "execute_result"
    }
   ],
   "source": [
    "list(dat[dat.columns[1]])"
   ]
  },
  {
   "cell_type": "markdown",
   "metadata": {},
   "source": [
    "## Select a specific row"
   ]
  },
  {
   "cell_type": "code",
   "execution_count": 10,
   "metadata": {},
   "outputs": [
    {
     "data": {
      "text/plain": [
       "RPI         2.0<RPI<=3.0\n",
       "TamSui              31.5\n",
       "ZengWen             23.8\n",
       "DaJia                  0\n",
       "TouQian              2.4\n",
       "FengShan             4.1\n",
       "Name: 1, dtype: object"
      ]
     },
     "execution_count": 10,
     "metadata": {},
     "output_type": "execute_result"
    }
   ],
   "source": [
    "dat.loc[1]"
   ]
  },
  {
   "cell_type": "code",
   "execution_count": 13,
   "metadata": {},
   "outputs": [
    {
     "data": {
      "text/plain": [
       "[231.5, 111.0, 140.2, 55.3, 38.9]"
      ]
     },
     "execution_count": 13,
     "metadata": {},
     "output_type": "execute_result"
    }
   ],
   "source": [
    "list(dat.loc[0])[1:] # Skip the first item"
   ]
  },
  {
   "cell_type": "markdown",
   "metadata": {},
   "source": [
    "## Drawing a stacked bar chart\n",
    "For each plt.bar(), we are drawing each color one by one.\n",
    "\n",
    "I mean... First we'll draw the green shit, then the yellow, brown and red shit."
   ]
  },
  {
   "cell_type": "code",
   "execution_count": 23,
   "metadata": {},
   "outputs": [],
   "source": [
    "names = list(dat.columns)[1:] # ['TamSui', 'ZengWen', 'DaJia', 'TouQian', 'FengShan']"
   ]
  },
  {
   "cell_type": "code",
   "execution_count": 27,
   "metadata": {},
   "outputs": [
    {
     "data": {
      "text/plain": [
       "[[231.5, 111.0, 140.2, 55.3, 38.9],\n",
       " [31.5, 23.8, 0.0, 2.4, 4.1],\n",
       " [48.7, 3.7, 0.0, 5.3, 2.4],\n",
       " [11.7, 0.0, 0.0, 0.0, 0.0]]"
      ]
     },
     "execution_count": 27,
     "metadata": {},
     "output_type": "execute_result"
    }
   ],
   "source": [
    "rpis = [list(dat.iloc[x])[1:] for x in range(0, len(dat))]\n",
    "rpis"
   ]
  },
  {
   "cell_type": "code",
   "execution_count": 25,
   "metadata": {},
   "outputs": [],
   "source": [
    "legend = list(dat[dat.columns[0]]) # ['RPI<=2.0', '2.0<RPI<=3.0', '3.1<RPI<=6.0', 'RPI>6.0']"
   ]
  },
  {
   "cell_type": "code",
   "execution_count": 26,
   "metadata": {},
   "outputs": [],
   "source": [
    "colors = ['#A3E0CE', '#E0D6A3', '#DF955B', '#FF7E6D']"
   ]
  },
  {
   "cell_type": "markdown",
   "metadata": {},
   "source": [
    "Now the critical part. For each plt.bar(), we have to decide the values of bottom parameters.\n",
    "\n",
    "Addition on two `np.array()`s:\n",
    "```\n",
    "np.array([1, 3]) + np.array([2, 8]) -> np.array([1+2, 3+8]) = np.array([3, 11])\n",
    "```"
   ]
  },
  {
   "cell_type": "code",
   "execution_count": 30,
   "metadata": {},
   "outputs": [
    {
     "data": {
      "text/plain": [
       "Text(0.5, 1.0, '<title goes here>')"
      ]
     },
     "execution_count": 30,
     "metadata": {},
     "output_type": "execute_result"
    },
    {
     "data": {
      "image/png": "[encoded data removed]",
      "text/plain": [
       "<Figure size 432x288 with 1 Axes>"
      ]
     },
     "metadata": {},
     "output_type": "display_data"
    }
   ],
   "source": [
    "plt.bar(names, rpis[0], color=colors[0])\n",
    "plt.bar(names, rpis[1], bottom=np.array(rpis[0]), color=colors[1])\n",
    "plt.bar(names, rpis[2], bottom=np.array(rpis[0]) + np.array(rpis[1]), color=colors[2])\n",
    "plt.bar(names, rpis[3], bottom=np.array(rpis[0]) + np.array(rpis[1]) + np.array(rpis[2]), color=colors[3])\n",
    "plt.xlabel('<x axis caption>')\n",
    "plt.ylabel('<y axis caption>')\n",
    "plt.legend(legend)\n",
    "plt.title('<title goes here>')"
   ]
  },
  {
   "cell_type": "markdown",
   "metadata": {},
   "source": [
    "Without the bottom parameters, our chart will looks like this."
   ]
  },
  {
   "cell_type": "code",
   "execution_count": 31,
   "metadata": {},
   "outputs": [
    {
     "data": {
      "text/plain": [
       "Text(0.5, 1.0, '<title goes here>')"
      ]
     },
     "execution_count": 31,
     "metadata": {},
     "output_type": "execute_result"
    },
    {
     "data": {
      "image/png": "[encoded data removed]",
      "text/plain": [
       "<Figure size 432x288 with 1 Axes>"
      ]
     },
     "metadata": {},
     "output_type": "display_data"
    }
   ],
   "source": [
    "plt.bar(names, rpis[0], color=colors[0])\n",
    "plt.bar(names, rpis[1], color=colors[1])\n",
    "plt.bar(names, rpis[2], color=colors[2])\n",
    "plt.bar(names, rpis[3], color=colors[3])\n",
    "plt.xlabel('<x axis caption>')\n",
    "plt.ylabel('<y axis caption>')\n",
    "plt.legend(legend)\n",
    "plt.title('<title goes here>')"
   ]
  }
 ],
 "metadata": {
  "kernelspec": {
   "display_name": "Python 3",
   "language": "python",
   "name": "python3"
  },
  "language_info": {
   "codemirror_mode": {
    "name": "ipython",
    "version": 3
   },
   "file_extension": ".py",
   "mimetype": "text/x-python",
   "name": "python",
   "nbconvert_exporter": "python",
   "pygments_lexer": "ipython3",
   "version": "3.7.1"
  }
 },
 "nbformat": 4,
 "nbformat_minor": 2
}
