{
 "cells": [
  {
   "cell_type": "code",
   "execution_count": 161,
   "metadata": {},
   "outputs": [],
   "source": [
    "# Make your plot output stored in the notebook.\n",
    "%matplotlib inline"
   ]
  },
  {
   "cell_type": "code",
   "execution_count": 162,
   "metadata": {},
   "outputs": [],
   "source": [
    "import pandas\n",
    "import matplotlib\n",
    "import numpy as np\n",
    "from matplotlib import pyplot as plt\n",
    "\n",
    "matplotlib.style.use('ggplot')"
   ]
  },
  {
   "cell_type": "code",
   "execution_count": 188,
   "metadata": {},
   "outputs": [
    {
     "data": {
      "text/html": [
       "<div>\n",
       "<style scoped>\n",
       "    .dataframe tbody tr th:only-of-type {\n",
       "        vertical-align: middle;\n",
       "    }\n",
       "\n",
       "    .dataframe tbody tr th {\n",
       "        vertical-align: top;\n",
       "    }\n",
       "\n",
       "    .dataframe thead th {\n",
       "        text-align: right;\n",
       "    }\n",
       "</style>\n",
       "<table border=\"1\" class=\"dataframe\">\n",
       "  <thead>\n",
       "    <tr style=\"text-align: right;\">\n",
       "      <th></th>\n",
       "      <th>RPI</th>\n",
       "      <th>TamSui</th>\n",
       "      <th>FengShan</th>\n",
       "      <th>TouQian</th>\n",
       "      <th>HouLong</th>\n",
       "      <th>DaAn</th>\n",
       "      <th>DaJia</th>\n",
       "      <th>WuXi</th>\n",
       "    </tr>\n",
       "  </thead>\n",
       "  <tbody>\n",
       "    <tr>\n",
       "      <th>0</th>\n",
       "      <td>RPI&lt;=2.0</td>\n",
       "      <td>231.5</td>\n",
       "      <td>38.9</td>\n",
       "      <td>55.3</td>\n",
       "      <td>50.7</td>\n",
       "      <td>95.8</td>\n",
       "      <td>140.2</td>\n",
       "      <td>102.3</td>\n",
       "    </tr>\n",
       "    <tr>\n",
       "      <th>1</th>\n",
       "      <td>2.0&lt;RPI&lt;=3.0</td>\n",
       "      <td>31.5</td>\n",
       "      <td>4.1</td>\n",
       "      <td>2.4</td>\n",
       "      <td>5.9</td>\n",
       "      <td>5.4</td>\n",
       "      <td>0.0</td>\n",
       "      <td>10.4</td>\n",
       "    </tr>\n",
       "    <tr>\n",
       "      <th>2</th>\n",
       "      <td>3.1&lt;RPI&lt;=6.0</td>\n",
       "      <td>48.7</td>\n",
       "      <td>2.4</td>\n",
       "      <td>5.3</td>\n",
       "      <td>1.4</td>\n",
       "      <td>0.0</td>\n",
       "      <td>0.0</td>\n",
       "      <td>4.1</td>\n",
       "    </tr>\n",
       "    <tr>\n",
       "      <th>3</th>\n",
       "      <td>RPI&gt;6.0</td>\n",
       "      <td>11.7</td>\n",
       "      <td>0.0</td>\n",
       "      <td>0.0</td>\n",
       "      <td>0.0</td>\n",
       "      <td>0.0</td>\n",
       "      <td>0.0</td>\n",
       "      <td>0.0</td>\n",
       "    </tr>\n",
       "  </tbody>\n",
       "</table>\n",
       "</div>"
      ],
      "text/plain": [
       "            RPI  TamSui  FengShan  TouQian  HouLong  DaAn  DaJia   WuXi\n",
       "0      RPI<=2.0   231.5      38.9     55.3     50.7  95.8  140.2  102.3\n",
       "1  2.0<RPI<=3.0    31.5       4.1      2.4      5.9   5.4    0.0   10.4\n",
       "2  3.1<RPI<=6.0    48.7       2.4      5.3      1.4   0.0    0.0    4.1\n",
       "3       RPI>6.0    11.7       0.0      0.0      0.0   0.0    0.0    0.0"
      ]
     },
     "execution_count": 188,
     "metadata": {},
     "output_type": "execute_result"
    }
   ],
   "source": [
    "dat = pandas.read_csv('river_pollution.csv')\n",
    "dat"
   ]
  },
  {
   "cell_type": "code",
   "execution_count": 189,
   "metadata": {},
   "outputs": [
    {
     "data": {
      "text/plain": [
       "array([263. ,  43. ,  57.7,  56.6, 101.2, 140.2, 112.7])"
      ]
     },
     "execution_count": 189,
     "metadata": {},
     "output_type": "execute_result"
    }
   ],
   "source": [
    "# We'll draw each RPI one by one later\n",
    "# by calling plt.bar()\n",
    "names = list(dat.columns)[1:]\n",
    "\n",
    "row_count = len(dat)\n",
    "rpi = [list(dat.iloc[x])[1:] for x in range(0, row_count)]\n",
    "\n",
    "np.array(rpi[0])+ np.array(rpi[1])"
   ]
  },
  {
   "cell_type": "code",
   "execution_count": 191,
   "metadata": {},
   "outputs": [
    {
     "data": {
      "image/png": "[encoded data removed]",
      "text/plain": [
       "<Figure size 1080x504 with 1 Axes>"
      ]
     },
     "metadata": {},
     "output_type": "display_data"
    }
   ],
   "source": [
    "plt.figure(figsize=(15, 7))\n",
    "plt.bar([1,2,3,4], [1,2,3,4])\n",
    "#plt.bar(names, rpi_0, color='#A3E0CE')\n",
    "#plt.bar(names, rpi_1, bottom=np.array(rpi[0]), color='#E0D6A3')\n",
    "#plt.bar(names, rpi_2, bottom=np.array(rpi[0]) + np.array(rpi[1]), color='#DF955B')\n",
    "#plt.bar(names, rpi_3, bottom=np.array(rpi[0]) + np.array(rpi[1]) + np.array(rpi[2]), color='#FF7E6D')\n",
    "plt.xlabel('Rivers')\n",
    "plt.ylabel('Length (in km)')\n",
    "plt.legend(['RPI<=2.0', '2.0<RPI<=3.0', '3.1<RPI<=6.0', 'RPI>6.0'])\n",
    "plt.show()"
   ]
  },
  {
   "cell_type": "code",
   "execution_count": null,
   "metadata": {},
   "outputs": [],
   "source": []
  }
 ],
 "metadata": {
  "kernelspec": {
   "display_name": "Python 3",
   "language": "python",
   "name": "python3"
  },
  "language_info": {
   "codemirror_mode": {
    "name": "ipython",
    "version": 3
   },
   "file_extension": ".py",
   "mimetype": "text/x-python",
   "name": "python",
   "nbconvert_exporter": "python",
   "pygments_lexer": "ipython3",
   "version": "3.7.1"
  }
 },
 "nbformat": 4,
 "nbformat_minor": 2
}
