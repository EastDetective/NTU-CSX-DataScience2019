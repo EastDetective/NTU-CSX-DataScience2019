{
 "cells": [
  {
   "cell_type": "markdown",
   "metadata": {},
   "source": [
    "# Scraping Google Career Webpages"
   ]
  },
  {
   "cell_type": "markdown",
   "metadata": {},
   "source": [
    "## Prerequisites\n",
    "* selenium\n",
    "* one of the following (depending on which browser you're using)\n",
    "  * firefox: [geckodriver](https://github.com/mozilla/geckodriver/releases/)\n",
    "  * chrome/chromium: [chromedriver](http://chromedriver.chromium.org/)\n",
    "  \n",
    "## Useful Tutorials\n",
    "* https://huilansame.github.io/huilansame.github.io/archivers/sleep-implicitlywait-wait\n",
    "* https://wangxin1248.github.io/python/2018/09/python3-spider-8.html"
   ]
  },
  {
   "cell_type": "code",
   "execution_count": 1,
   "metadata": {},
   "outputs": [],
   "source": [
    "class GoogleJob:\n",
    "    \"\"\" Wraps job title, location, minimum/preferred qualifications and responsibilities \"\"\"\n",
    "    def __init__(self, title, location, minimum_qual, preferred_qual, responsibilities):\n",
    "        self.title = title\n",
    "        self.location = location\n",
    "        self.minimum_qual = minimum_qual\n",
    "        self.preferred_qual = preferred_qual\n",
    "        self.responsibilities = responsibilities"
   ]
  },
  {
   "cell_type": "markdown",
   "metadata": {},
   "source": [
    "## 1. Scraping a single page into a GoogleJob object\n",
    "https://careers.google.com/jobs/results/6163626811654144-front-end-software-engineer/?company=Google&company=YouTube&employment_type=FULL_TIME&hl=en_US&jlo=en_US&q=software&sort_by=relevance"
   ]
  },
  {
   "cell_type": "code",
   "execution_count": 7,
   "metadata": {},
   "outputs": [],
   "source": [
    "from selenium.webdriver import Firefox\n",
    "from selenium.webdriver.common.by import By\n",
    "from selenium.webdriver.common.keys import Keys\n",
    "from selenium.webdriver.firefox.options import Options\n",
    "from selenium.webdriver.support.wait import WebDriverWait\n",
    "from selenium.webdriver.support import expected_conditions as ec\n",
    "import time\n",
    "import csv"
   ]
  },
  {
   "cell_type": "code",
   "execution_count": 8,
   "metadata": {},
   "outputs": [],
   "source": [
    "def _extract(class_name: str):\n",
    "    \"\"\" Extracts the specified element by class name \n",
    "    :return: readable text in the element.\n",
    "    \"\"\"\n",
    "    return driver.find_element_by_class_name(class_name).text"
   ]
  },
  {
   "cell_type": "code",
   "execution_count": 9,
   "metadata": {},
   "outputs": [],
   "source": [
    "def scrape_url(url: str, wait: WebDriverWait):\n",
    "    \"\"\" Scrape the job info from the specified Url. A broswer driver MUST be initialized beforehand.\n",
    "    :param url: the url of a detailed google job page.\n",
    "    :param wait: contains timeout.\n",
    "    :return: a GoogleJob object.\n",
    "    \"\"\"\n",
    "    driver.get(url)\n",
    "    \n",
    "    # Wait until all required elements are generated.\n",
    "    wait.until(ec.presence_of_element_located((By.CLASS_NAME, 'gc-card__title')))\n",
    "    wait.until(ec.presence_of_element_located((By.CLASS_NAME, 'gc-job-tags__location')))\n",
    "    wait.until(ec.presence_of_element_located((By.CLASS_NAME, 'gc-job-qualifications')))\n",
    "    wait.until(ec.presence_of_element_located((By.CLASS_NAME, 'gc-job-detail__section--responsibilities')))\n",
    "    \n",
    "    # Extract job information.\n",
    "    title = _extract('gc-card__title')\n",
    "    location = _extract('gc-job-tags__location')\n",
    "    qualifications = _extract('gc-job-qualifications').split('\\n\\n')\n",
    "    minimum_qual = qualifications[0].replace('Minimum qualifications:\\n', '')\n",
    "    preferred_qual = qualifications[1].replace('Preferred qualifications:\\n', '')\n",
    "    responsibilities = _extract('gc-job-detail__section--responsibilities').replace('Responsibilities\\n', '', 1)\n",
    "    \n",
    "    return GoogleJob(title, location, minimum_qual, preferred_qual, responsibilities)"
   ]
  },
  {
   "cell_type": "code",
   "execution_count": 10,
   "metadata": {},
   "outputs": [
    {
     "name": "stdout",
     "output_type": "stream",
     "text": [
      "{'title': 'Front End Software Engineer', 'location': 'Pittsburgh, PA, USA', 'minimum_qual': 'BA/BS degree or equivalent practical experience.\\n1 year of work experience in software development.\\nExperience with server-side web frameworks such as JSP or ASP.Net.\\nDevelopment experience in C, C++ or Java and experience designing modular, object-oriented JavaScript.', 'preferred_qual': '4 years of relevant work experience, including web application experience or skills using AJAX, HTML, CSS or JavaScript.\\nProgramming experience in GWT.\\nExperience with user interface frameworks such as XUL, Flex, AJAX, and XAML.\\nKnowledge of user interface design.', 'responsibilities': \"Build next-generation web applications with a focus on the client side.\\nRedesign UI's, Implement new UI's, and pick up Java as necessary.\\nEngage with back-end systems.\"}\n"
     ]
    }
   ],
   "source": [
    "options = Options()\n",
    "options.add_argument('-headless')\n",
    "driver = Firefox(executable_path='/opt/firefox/geckodriver', options=options)\n",
    "\n",
    "wait = WebDriverWait(driver, timeout=10)\n",
    "job = scrape_url(r'https://careers.google.com/jobs/results/6163626811654144-front-end-software-engineer/?company=Google&company=YouTube&employment_type=FULL_TIME&hl=en_US&jlo=en_US&q=software&sort_by=relevance', wait)\n",
    "print(vars(job))\n",
    "\n",
    "driver.quit()"
   ]
  },
  {
   "cell_type": "markdown",
   "metadata": {},
   "source": [
    "## Write the dict representation of a GoogleJob object to CSV"
   ]
  },
  {
   "cell_type": "code",
   "execution_count": 12,
   "metadata": {},
   "outputs": [
    {
     "name": "stdout",
     "output_type": "stream",
     "text": [
      "File written: google_jobs.csv\n"
     ]
    }
   ],
   "source": [
    "csv_file = 'google_jobs.csv'\n",
    "job_dict = vars(job)\n",
    "\n",
    "with open(csv_file, 'w') as f:\n",
    "    w = csv.DictWriter(f, job_dict.keys())\n",
    "    w.writeheader()\n",
    "    w.writerow(job_dict)\n",
    "    \n",
    "print('File written: ' + csv_file)"
   ]
  },
  {
   "cell_type": "markdown",
   "metadata": {},
   "source": [
    "## Csv to Pandas DataFrame"
   ]
  },
  {
   "cell_type": "code",
   "execution_count": 13,
   "metadata": {},
   "outputs": [],
   "source": [
    "import pandas"
   ]
  },
  {
   "cell_type": "code",
   "execution_count": 14,
   "metadata": {},
   "outputs": [
    {
     "data": {
      "text/html": [
       "<div>\n",
       "<style scoped>\n",
       "    .dataframe tbody tr th:only-of-type {\n",
       "        vertical-align: middle;\n",
       "    }\n",
       "\n",
       "    .dataframe tbody tr th {\n",
       "        vertical-align: top;\n",
       "    }\n",
       "\n",
       "    .dataframe thead th {\n",
       "        text-align: right;\n",
       "    }\n",
       "</style>\n",
       "<table border=\"1\" class=\"dataframe\">\n",
       "  <thead>\n",
       "    <tr style=\"text-align: right;\">\n",
       "      <th></th>\n",
       "      <th>title</th>\n",
       "      <th>location</th>\n",
       "      <th>minimum_qual</th>\n",
       "      <th>preferred_qual</th>\n",
       "      <th>responsibilities</th>\n",
       "    </tr>\n",
       "  </thead>\n",
       "  <tbody>\n",
       "    <tr>\n",
       "      <th>0</th>\n",
       "      <td>Front End Software Engineer</td>\n",
       "      <td>Pittsburgh, PA, USA</td>\n",
       "      <td>BA/BS degree or equivalent practical experienc...</td>\n",
       "      <td>4 years of relevant work experience, including...</td>\n",
       "      <td>Build next-generation web applications with a ...</td>\n",
       "    </tr>\n",
       "  </tbody>\n",
       "</table>\n",
       "</div>"
      ],
      "text/plain": [
       "                         title             location  \\\n",
       "0  Front End Software Engineer  Pittsburgh, PA, USA   \n",
       "\n",
       "                                        minimum_qual  \\\n",
       "0  BA/BS degree or equivalent practical experienc...   \n",
       "\n",
       "                                      preferred_qual  \\\n",
       "0  4 years of relevant work experience, including...   \n",
       "\n",
       "                                    responsibilities  \n",
       "0  Build next-generation web applications with a ...  "
      ]
     },
     "execution_count": 14,
     "metadata": {},
     "output_type": "execute_result"
    }
   ],
   "source": [
    "dat = pandas.read_csv(csv_file)\n",
    "dat"
   ]
  },
  {
   "cell_type": "markdown",
   "metadata": {},
   "source": [
    "---"
   ]
  },
  {
   "cell_type": "markdown",
   "metadata": {},
   "source": [
    "## 2. Search & Scrape All Relevant Jobs"
   ]
  },
  {
   "cell_type": "code",
   "execution_count": 15,
   "metadata": {},
   "outputs": [],
   "source": [
    "import selenium.webdriver.support.ui as ui\n",
    "from selenium.common.exceptions import TimeoutException"
   ]
  },
  {
   "cell_type": "code",
   "execution_count": 23,
   "metadata": {},
   "outputs": [],
   "source": [
    "options = Options()\n",
    "options.add_argument('-headless')\n",
    "driver = Firefox(executable_path='/opt/firefox/geckodriver', options=options)"
   ]
  },
  {
   "cell_type": "code",
   "execution_count": 24,
   "metadata": {},
   "outputs": [
    {
     "name": "stdout",
     "output_type": "stream",
     "text": [
      "['https://careers.google.com/jobs/results/6163626811654144-front-end-software-engineer/?company=Google&company=YouTube&employment_type=FULL_TIME&hl=en_US&jlo=en_US&q=softwaresoftware&sort_by=relevance', 'https://careers.google.com/jobs/results/6343639863328768-software-engineer-html5-video-google-cloud-platform/?company=Google&company=YouTube&employment_type=FULL_TIME&hl=en_US&jlo=en_US&q=softwaresoftware&sort_by=relevance', 'https://careers.google.com/jobs/results/5590805127561216-front-end-software-engineer-youtube/?company=Google&company=YouTube&employment_type=FULL_TIME&hl=en_US&jlo=en_US&q=softwaresoftware&sort_by=relevance', 'https://careers.google.com/jobs/results/5175961349980160-software-engineer-google-home/?company=Google&company=YouTube&employment_type=FULL_TIME&hl=en_US&jlo=en_US&q=softwaresoftware&sort_by=relevance', 'https://careers.google.com/jobs/results/5629038607663104-software-engineer-front-end-development/?company=Google&company=YouTube&employment_type=FULL_TIME&hl=en_US&jlo=en_US&q=softwaresoftware&sort_by=relevance', 'https://careers.google.com/jobs/results/6489007460646912-wireless-software-engineer-google-home/?company=Google&company=YouTube&employment_type=FULL_TIME&hl=en_US&jlo=en_US&q=softwaresoftware&sort_by=relevance', 'https://careers.google.com/jobs/results/6283250717884416-software-engineer-cloud-sql/?company=Google&company=YouTube&employment_type=FULL_TIME&hl=en_US&jlo=en_US&q=softwaresoftware&sort_by=relevance', 'https://careers.google.com/jobs/results/5490168047796224-software-engineer/?company=Google&company=YouTube&employment_type=FULL_TIME&hl=en_US&jlo=en_US&q=softwaresoftware&sort_by=relevance', 'https://careers.google.com/jobs/results/5819748258611200-software-engineer-infrastructure-english/?company=Google&company=YouTube&employment_type=FULL_TIME&hl=en_US&jlo=en_US&q=softwaresoftware&sort_by=relevance', 'https://careers.google.com/jobs/results/6696990677073920-software-engineer-android/?company=Google&company=YouTube&employment_type=FULL_TIME&hl=en_US&jlo=en_US&q=softwaresoftware&sort_by=relevance', 'https://careers.google.com/jobs/results/4834435505782784-software-engineer-embedded-systems/?company=Google&company=YouTube&employment_type=FULL_TIME&hl=en_US&jlo=en_US&q=softwaresoftware&sort_by=relevance', 'https://careers.google.com/jobs/results/5264513710620672-software-engineer-tools-and-infrastructure/?company=Google&company=YouTube&employment_type=FULL_TIME&hl=en_US&jlo=en_US&q=softwaresoftware&sort_by=relevance', 'https://careers.google.com/jobs/results/6397752844156928-software-engineer-mobile-applications-ios/?company=Google&company=YouTube&employment_type=FULL_TIME&hl=en_US&jlo=en_US&q=softwaresoftware&sort_by=relevance', 'https://careers.google.com/jobs/results/5489920866975744-software-engineer-university-graduate/?company=Google&company=YouTube&employment_type=FULL_TIME&hl=en_US&jlo=en_US&q=softwaresoftware&sort_by=relevance', 'https://careers.google.com/jobs/results/5642621374627840-software-engineer/?company=Google&company=YouTube&employment_type=FULL_TIME&hl=en_US&jlo=en_US&q=softwaresoftware&sort_by=relevance', 'https://careers.google.com/jobs/results/4830125650804736-software-engineer/?company=Google&company=YouTube&employment_type=FULL_TIME&hl=en_US&jlo=en_US&q=softwaresoftware&sort_by=relevance', 'https://careers.google.com/jobs/results/5526596127358976-software-engineer-compiler/?company=Google&company=YouTube&employment_type=FULL_TIME&hl=en_US&jlo=en_US&q=softwaresoftware&sort_by=relevance', 'https://careers.google.com/jobs/results/6327089923686400-software-engineer-networking/?company=Google&company=YouTube&employment_type=FULL_TIME&hl=en_US&jlo=en_US&q=softwaresoftware&sort_by=relevance', 'https://careers.google.com/jobs/results/5491724514426880-lead-software-engineer-kubernetes/?company=Google&company=YouTube&employment_type=FULL_TIME&hl=en_US&jlo=en_US&q=softwaresoftware&sort_by=relevance', 'https://careers.google.com/jobs/results/6097791548063744-software-engineer-youtube/?company=Google&company=YouTube&employment_type=FULL_TIME&hl=en_US&jlo=en_US&q=softwaresoftware&sort_by=relevance', 'https://careers.google.com/jobs/results/6163626811654144-front-end-software-engineer/?company=Google&company=YouTube&employment_type=FULL_TIME&hl=en_US&jlo=en_US&page=2&q=softwaresoftware&sort_by=relevance', 'https://careers.google.com/jobs/results/6343639863328768-software-engineer-html5-video-google-cloud-platform/?company=Google&company=YouTube&employment_type=FULL_TIME&hl=en_US&jlo=en_US&page=2&q=softwaresoftware&sort_by=relevance', 'https://careers.google.com/jobs/results/5590805127561216-front-end-software-engineer-youtube/?company=Google&company=YouTube&employment_type=FULL_TIME&hl=en_US&jlo=en_US&page=2&q=softwaresoftware&sort_by=relevance', 'https://careers.google.com/jobs/results/6326182343802880-network-test-engineer/?company=Google&company=YouTube&employment_type=FULL_TIME&hl=en_US&jlo=en_US&page=2&q=softwaresoftware&sort_by=relevance', 'https://careers.google.com/jobs/results/5629038607663104-software-engineer-front-end-development/?company=Google&company=YouTube&employment_type=FULL_TIME&hl=en_US&jlo=en_US&page=2&q=softwaresoftware&sort_by=relevance', 'https://careers.google.com/jobs/results/5175961349980160-software-engineer-google-home/?company=Google&company=YouTube&employment_type=FULL_TIME&hl=en_US&jlo=en_US&page=2&q=softwaresoftware&sort_by=relevance', 'https://careers.google.com/jobs/results/6669064380153856-data-engineer-cloud-support/?company=Google&company=YouTube&employment_type=FULL_TIME&hl=en_US&jlo=en_US&page=2&q=softwaresoftware&sort_by=relevance', 'https://careers.google.com/jobs/results/6489007460646912-wireless-software-engineer-google-home/?company=Google&company=YouTube&employment_type=FULL_TIME&hl=en_US&jlo=en_US&page=2&q=softwaresoftware&sort_by=relevance', 'https://careers.google.com/jobs/results/6534422981705728-web-solutions-engineer-google-cloud/?company=Google&company=YouTube&employment_type=FULL_TIME&hl=en_US&jlo=en_US&page=2&q=softwaresoftware&sort_by=relevance', 'https://careers.google.com/jobs/results/6412639460065280-corporate-operations-engineer-it-support/?company=Google&company=YouTube&employment_type=FULL_TIME&hl=en_US&jlo=en_US&page=2&q=softwaresoftware&sort_by=relevance', 'https://careers.google.com/jobs/results/6617077211398144-full-stack-web-developer-waze/?company=Google&company=YouTube&employment_type=FULL_TIME&hl=en_US&jlo=en_US&page=2&q=softwaresoftware&sort_by=relevance', 'https://careers.google.com/jobs/results/6410163873579008-program-manager-hardware-operations-software-tools/?company=Google&company=YouTube&employment_type=FULL_TIME&hl=en_US&jlo=en_US&page=2&q=softwaresoftware&sort_by=relevance', 'https://careers.google.com/jobs/results/4721897457778688-ux-design-program-manager-hardware/?company=Google&company=YouTube&employment_type=FULL_TIME&hl=en_US&jlo=en_US&page=2&q=softwaresoftware&sort_by=relevance', 'https://careers.google.com/jobs/results/6283250717884416-software-engineer-cloud-sql/?company=Google&company=YouTube&employment_type=FULL_TIME&hl=en_US&jlo=en_US&page=2&q=softwaresoftware&sort_by=relevance', 'https://careers.google.com/jobs/results/5490168047796224-software-engineer/?company=Google&company=YouTube&employment_type=FULL_TIME&hl=en_US&jlo=en_US&page=2&q=softwaresoftware&sort_by=relevance', 'https://careers.google.com/jobs/results/5264513710620672-software-engineer-tools-and-infrastructure/?company=Google&company=YouTube&employment_type=FULL_TIME&hl=en_US&jlo=en_US&page=2&q=softwaresoftware&sort_by=relevance', 'https://careers.google.com/jobs/results/6696990677073920-software-engineer-android/?company=Google&company=YouTube&employment_type=FULL_TIME&hl=en_US&jlo=en_US&page=2&q=softwaresoftware&sort_by=relevance', 'https://careers.google.com/jobs/results/5819748258611200-software-engineer-infrastructure-english/?company=Google&company=YouTube&employment_type=FULL_TIME&hl=en_US&jlo=en_US&page=2&q=softwaresoftware&sort_by=relevance', 'https://careers.google.com/jobs/results/4834435505782784-software-engineer-embedded-systems/?company=Google&company=YouTube&employment_type=FULL_TIME&hl=en_US&jlo=en_US&page=2&q=softwaresoftware&sort_by=relevance', 'https://careers.google.com/jobs/results/5642621374627840-software-engineer/?company=Google&company=YouTube&employment_type=FULL_TIME&hl=en_US&jlo=en_US&page=2&q=softwaresoftware&sort_by=relevance', 'https://careers.google.com/jobs/results/6163626811654144-front-end-software-engineer/?company=Google&company=YouTube&employment_type=FULL_TIME&hl=en_US&jlo=en_US&page=2&q=softwaresoftware&sort_by=relevance', 'https://careers.google.com/jobs/results/6343639863328768-software-engineer-html5-video-google-cloud-platform/?company=Google&company=YouTube&employment_type=FULL_TIME&hl=en_US&jlo=en_US&page=2&q=softwaresoftware&sort_by=relevance', 'https://careers.google.com/jobs/results/5590805127561216-front-end-software-engineer-youtube/?company=Google&company=YouTube&employment_type=FULL_TIME&hl=en_US&jlo=en_US&page=2&q=softwaresoftware&sort_by=relevance', 'https://careers.google.com/jobs/results/6326182343802880-network-test-engineer/?company=Google&company=YouTube&employment_type=FULL_TIME&hl=en_US&jlo=en_US&page=2&q=softwaresoftware&sort_by=relevance', 'https://careers.google.com/jobs/results/5629038607663104-software-engineer-front-end-development/?company=Google&company=YouTube&employment_type=FULL_TIME&hl=en_US&jlo=en_US&page=2&q=softwaresoftware&sort_by=relevance', 'https://careers.google.com/jobs/results/5175961349980160-software-engineer-google-home/?company=Google&company=YouTube&employment_type=FULL_TIME&hl=en_US&jlo=en_US&page=2&q=softwaresoftware&sort_by=relevance', 'https://careers.google.com/jobs/results/6669064380153856-data-engineer-cloud-support/?company=Google&company=YouTube&employment_type=FULL_TIME&hl=en_US&jlo=en_US&page=2&q=softwaresoftware&sort_by=relevance', 'https://careers.google.com/jobs/results/6489007460646912-wireless-software-engineer-google-home/?company=Google&company=YouTube&employment_type=FULL_TIME&hl=en_US&jlo=en_US&page=2&q=softwaresoftware&sort_by=relevance', 'https://careers.google.com/jobs/results/6534422981705728-web-solutions-engineer-google-cloud/?company=Google&company=YouTube&employment_type=FULL_TIME&hl=en_US&jlo=en_US&page=2&q=softwaresoftware&sort_by=relevance', 'https://careers.google.com/jobs/results/6412639460065280-corporate-operations-engineer-it-support/?company=Google&company=YouTube&employment_type=FULL_TIME&hl=en_US&jlo=en_US&page=2&q=softwaresoftware&sort_by=relevance', 'https://careers.google.com/jobs/results/6617077211398144-full-stack-web-developer-waze/?company=Google&company=YouTube&employment_type=FULL_TIME&hl=en_US&jlo=en_US&page=2&q=softwaresoftware&sort_by=relevance', 'https://careers.google.com/jobs/results/6410163873579008-program-manager-hardware-operations-software-tools/?company=Google&company=YouTube&employment_type=FULL_TIME&hl=en_US&jlo=en_US&page=2&q=softwaresoftware&sort_by=relevance', 'https://careers.google.com/jobs/results/4721897457778688-ux-design-program-manager-hardware/?company=Google&company=YouTube&employment_type=FULL_TIME&hl=en_US&jlo=en_US&page=2&q=softwaresoftware&sort_by=relevance', 'https://careers.google.com/jobs/results/6283250717884416-software-engineer-cloud-sql/?company=Google&company=YouTube&employment_type=FULL_TIME&hl=en_US&jlo=en_US&page=2&q=softwaresoftware&sort_by=relevance', 'https://careers.google.com/jobs/results/5490168047796224-software-engineer/?company=Google&company=YouTube&employment_type=FULL_TIME&hl=en_US&jlo=en_US&page=2&q=softwaresoftware&sort_by=relevance', 'https://careers.google.com/jobs/results/5264513710620672-software-engineer-tools-and-infrastructure/?company=Google&company=YouTube&employment_type=FULL_TIME&hl=en_US&jlo=en_US&page=2&q=softwaresoftware&sort_by=relevance', 'https://careers.google.com/jobs/results/6696990677073920-software-engineer-android/?company=Google&company=YouTube&employment_type=FULL_TIME&hl=en_US&jlo=en_US&page=2&q=softwaresoftware&sort_by=relevance', 'https://careers.google.com/jobs/results/5819748258611200-software-engineer-infrastructure-english/?company=Google&company=YouTube&employment_type=FULL_TIME&hl=en_US&jlo=en_US&page=2&q=softwaresoftware&sort_by=relevance', 'https://careers.google.com/jobs/results/4834435505782784-software-engineer-embedded-systems/?company=Google&company=YouTube&employment_type=FULL_TIME&hl=en_US&jlo=en_US&page=2&q=softwaresoftware&sort_by=relevance', 'https://careers.google.com/jobs/results/5642621374627840-software-engineer/?company=Google&company=YouTube&employment_type=FULL_TIME&hl=en_US&jlo=en_US&page=2&q=softwaresoftware&sort_by=relevance', 'https://careers.google.com/jobs/results/6163626811654144-front-end-software-engineer/?company=Google&company=YouTube&employment_type=FULL_TIME&hl=en_US&jlo=en_US&page=2&q=softwaresoftware&sort_by=relevance', 'https://careers.google.com/jobs/results/6343639863328768-software-engineer-html5-video-google-cloud-platform/?company=Google&company=YouTube&employment_type=FULL_TIME&hl=en_US&jlo=en_US&page=2&q=softwaresoftware&sort_by=relevance', 'https://careers.google.com/jobs/results/5590805127561216-front-end-software-engineer-youtube/?company=Google&company=YouTube&employment_type=FULL_TIME&hl=en_US&jlo=en_US&page=2&q=softwaresoftware&sort_by=relevance', 'https://careers.google.com/jobs/results/6326182343802880-network-test-engineer/?company=Google&company=YouTube&employment_type=FULL_TIME&hl=en_US&jlo=en_US&page=2&q=softwaresoftware&sort_by=relevance', 'https://careers.google.com/jobs/results/5629038607663104-software-engineer-front-end-development/?company=Google&company=YouTube&employment_type=FULL_TIME&hl=en_US&jlo=en_US&page=2&q=softwaresoftware&sort_by=relevance', 'https://careers.google.com/jobs/results/5175961349980160-software-engineer-google-home/?company=Google&company=YouTube&employment_type=FULL_TIME&hl=en_US&jlo=en_US&page=2&q=softwaresoftware&sort_by=relevance', 'https://careers.google.com/jobs/results/6669064380153856-data-engineer-cloud-support/?company=Google&company=YouTube&employment_type=FULL_TIME&hl=en_US&jlo=en_US&page=2&q=softwaresoftware&sort_by=relevance', 'https://careers.google.com/jobs/results/6489007460646912-wireless-software-engineer-google-home/?company=Google&company=YouTube&employment_type=FULL_TIME&hl=en_US&jlo=en_US&page=2&q=softwaresoftware&sort_by=relevance', 'https://careers.google.com/jobs/results/6534422981705728-web-solutions-engineer-google-cloud/?company=Google&company=YouTube&employment_type=FULL_TIME&hl=en_US&jlo=en_US&page=2&q=softwaresoftware&sort_by=relevance', 'https://careers.google.com/jobs/results/6412639460065280-corporate-operations-engineer-it-support/?company=Google&company=YouTube&employment_type=FULL_TIME&hl=en_US&jlo=en_US&page=2&q=softwaresoftware&sort_by=relevance', 'https://careers.google.com/jobs/results/6617077211398144-full-stack-web-developer-waze/?company=Google&company=YouTube&employment_type=FULL_TIME&hl=en_US&jlo=en_US&page=2&q=softwaresoftware&sort_by=relevance', 'https://careers.google.com/jobs/results/6410163873579008-program-manager-hardware-operations-software-tools/?company=Google&company=YouTube&employment_type=FULL_TIME&hl=en_US&jlo=en_US&page=2&q=softwaresoftware&sort_by=relevance', 'https://careers.google.com/jobs/results/4721897457778688-ux-design-program-manager-hardware/?company=Google&company=YouTube&employment_type=FULL_TIME&hl=en_US&jlo=en_US&page=2&q=softwaresoftware&sort_by=relevance', 'https://careers.google.com/jobs/results/6283250717884416-software-engineer-cloud-sql/?company=Google&company=YouTube&employment_type=FULL_TIME&hl=en_US&jlo=en_US&page=2&q=softwaresoftware&sort_by=relevance', 'https://careers.google.com/jobs/results/5490168047796224-software-engineer/?company=Google&company=YouTube&employment_type=FULL_TIME&hl=en_US&jlo=en_US&page=2&q=softwaresoftware&sort_by=relevance', 'https://careers.google.com/jobs/results/5264513710620672-software-engineer-tools-and-infrastructure/?company=Google&company=YouTube&employment_type=FULL_TIME&hl=en_US&jlo=en_US&page=2&q=softwaresoftware&sort_by=relevance', 'https://careers.google.com/jobs/results/6696990677073920-software-engineer-android/?company=Google&company=YouTube&employment_type=FULL_TIME&hl=en_US&jlo=en_US&page=2&q=softwaresoftware&sort_by=relevance', 'https://careers.google.com/jobs/results/5819748258611200-software-engineer-infrastructure-english/?company=Google&company=YouTube&employment_type=FULL_TIME&hl=en_US&jlo=en_US&page=2&q=softwaresoftware&sort_by=relevance', 'https://careers.google.com/jobs/results/4834435505782784-software-engineer-embedded-systems/?company=Google&company=YouTube&employment_type=FULL_TIME&hl=en_US&jlo=en_US&page=2&q=softwaresoftware&sort_by=relevance', 'https://careers.google.com/jobs/results/5642621374627840-software-engineer/?company=Google&company=YouTube&employment_type=FULL_TIME&hl=en_US&jlo=en_US&page=2&q=softwaresoftware&sort_by=relevance', 'https://careers.google.com/jobs/results/6163626811654144-front-end-software-engineer/?company=Google&company=YouTube&employment_type=FULL_TIME&hl=en_US&jlo=en_US&page=2&q=softwaresoftware&sort_by=relevance', 'https://careers.google.com/jobs/results/6343639863328768-software-engineer-html5-video-google-cloud-platform/?company=Google&company=YouTube&employment_type=FULL_TIME&hl=en_US&jlo=en_US&page=2&q=softwaresoftware&sort_by=relevance', 'https://careers.google.com/jobs/results/5590805127561216-front-end-software-engineer-youtube/?company=Google&company=YouTube&employment_type=FULL_TIME&hl=en_US&jlo=en_US&page=2&q=softwaresoftware&sort_by=relevance', 'https://careers.google.com/jobs/results/6326182343802880-network-test-engineer/?company=Google&company=YouTube&employment_type=FULL_TIME&hl=en_US&jlo=en_US&page=2&q=softwaresoftware&sort_by=relevance', 'https://careers.google.com/jobs/results/5629038607663104-software-engineer-front-end-development/?company=Google&company=YouTube&employment_type=FULL_TIME&hl=en_US&jlo=en_US&page=2&q=softwaresoftware&sort_by=relevance', 'https://careers.google.com/jobs/results/5175961349980160-software-engineer-google-home/?company=Google&company=YouTube&employment_type=FULL_TIME&hl=en_US&jlo=en_US&page=2&q=softwaresoftware&sort_by=relevance', 'https://careers.google.com/jobs/results/6669064380153856-data-engineer-cloud-support/?company=Google&company=YouTube&employment_type=FULL_TIME&hl=en_US&jlo=en_US&page=2&q=softwaresoftware&sort_by=relevance', 'https://careers.google.com/jobs/results/6489007460646912-wireless-software-engineer-google-home/?company=Google&company=YouTube&employment_type=FULL_TIME&hl=en_US&jlo=en_US&page=2&q=softwaresoftware&sort_by=relevance', 'https://careers.google.com/jobs/results/6534422981705728-web-solutions-engineer-google-cloud/?company=Google&company=YouTube&employment_type=FULL_TIME&hl=en_US&jlo=en_US&page=2&q=softwaresoftware&sort_by=relevance', 'https://careers.google.com/jobs/results/6412639460065280-corporate-operations-engineer-it-support/?company=Google&company=YouTube&employment_type=FULL_TIME&hl=en_US&jlo=en_US&page=2&q=softwaresoftware&sort_by=relevance', 'https://careers.google.com/jobs/results/6617077211398144-full-stack-web-developer-waze/?company=Google&company=YouTube&employment_type=FULL_TIME&hl=en_US&jlo=en_US&page=2&q=softwaresoftware&sort_by=relevance', 'https://careers.google.com/jobs/results/6410163873579008-program-manager-hardware-operations-software-tools/?company=Google&company=YouTube&employment_type=FULL_TIME&hl=en_US&jlo=en_US&page=2&q=softwaresoftware&sort_by=relevance', 'https://careers.google.com/jobs/results/4721897457778688-ux-design-program-manager-hardware/?company=Google&company=YouTube&employment_type=FULL_TIME&hl=en_US&jlo=en_US&page=2&q=softwaresoftware&sort_by=relevance', 'https://careers.google.com/jobs/results/6283250717884416-software-engineer-cloud-sql/?company=Google&company=YouTube&employment_type=FULL_TIME&hl=en_US&jlo=en_US&page=2&q=softwaresoftware&sort_by=relevance', 'https://careers.google.com/jobs/results/5490168047796224-software-engineer/?company=Google&company=YouTube&employment_type=FULL_TIME&hl=en_US&jlo=en_US&page=2&q=softwaresoftware&sort_by=relevance', 'https://careers.google.com/jobs/results/5264513710620672-software-engineer-tools-and-infrastructure/?company=Google&company=YouTube&employment_type=FULL_TIME&hl=en_US&jlo=en_US&page=2&q=softwaresoftware&sort_by=relevance', 'https://careers.google.com/jobs/results/6696990677073920-software-engineer-android/?company=Google&company=YouTube&employment_type=FULL_TIME&hl=en_US&jlo=en_US&page=2&q=softwaresoftware&sort_by=relevance', 'https://careers.google.com/jobs/results/5819748258611200-software-engineer-infrastructure-english/?company=Google&company=YouTube&employment_type=FULL_TIME&hl=en_US&jlo=en_US&page=2&q=softwaresoftware&sort_by=relevance', 'https://careers.google.com/jobs/results/4834435505782784-software-engineer-embedded-systems/?company=Google&company=YouTube&employment_type=FULL_TIME&hl=en_US&jlo=en_US&page=2&q=softwaresoftware&sort_by=relevance', 'https://careers.google.com/jobs/results/5642621374627840-software-engineer/?company=Google&company=YouTube&employment_type=FULL_TIME&hl=en_US&jlo=en_US&page=2&q=softwaresoftware&sort_by=relevance', 'https://careers.google.com/jobs/results/6163626811654144-front-end-software-engineer/?company=Google&company=YouTube&employment_type=FULL_TIME&hl=en_US&jlo=en_US&page=2&q=softwaresoftware&sort_by=relevance', 'https://careers.google.com/jobs/results/6343639863328768-software-engineer-html5-video-google-cloud-platform/?company=Google&company=YouTube&employment_type=FULL_TIME&hl=en_US&jlo=en_US&page=2&q=softwaresoftware&sort_by=relevance', 'https://careers.google.com/jobs/results/5590805127561216-front-end-software-engineer-youtube/?company=Google&company=YouTube&employment_type=FULL_TIME&hl=en_US&jlo=en_US&page=2&q=softwaresoftware&sort_by=relevance', 'https://careers.google.com/jobs/results/6326182343802880-network-test-engineer/?company=Google&company=YouTube&employment_type=FULL_TIME&hl=en_US&jlo=en_US&page=2&q=softwaresoftware&sort_by=relevance', 'https://careers.google.com/jobs/results/5629038607663104-software-engineer-front-end-development/?company=Google&company=YouTube&employment_type=FULL_TIME&hl=en_US&jlo=en_US&page=2&q=softwaresoftware&sort_by=relevance', 'https://careers.google.com/jobs/results/5175961349980160-software-engineer-google-home/?company=Google&company=YouTube&employment_type=FULL_TIME&hl=en_US&jlo=en_US&page=2&q=softwaresoftware&sort_by=relevance', 'https://careers.google.com/jobs/results/6669064380153856-data-engineer-cloud-support/?company=Google&company=YouTube&employment_type=FULL_TIME&hl=en_US&jlo=en_US&page=2&q=softwaresoftware&sort_by=relevance', 'https://careers.google.com/jobs/results/6489007460646912-wireless-software-engineer-google-home/?company=Google&company=YouTube&employment_type=FULL_TIME&hl=en_US&jlo=en_US&page=2&q=softwaresoftware&sort_by=relevance', 'https://careers.google.com/jobs/results/6534422981705728-web-solutions-engineer-google-cloud/?company=Google&company=YouTube&employment_type=FULL_TIME&hl=en_US&jlo=en_US&page=2&q=softwaresoftware&sort_by=relevance', 'https://careers.google.com/jobs/results/6412639460065280-corporate-operations-engineer-it-support/?company=Google&company=YouTube&employment_type=FULL_TIME&hl=en_US&jlo=en_US&page=2&q=softwaresoftware&sort_by=relevance', 'https://careers.google.com/jobs/results/6617077211398144-full-stack-web-developer-waze/?company=Google&company=YouTube&employment_type=FULL_TIME&hl=en_US&jlo=en_US&page=2&q=softwaresoftware&sort_by=relevance', 'https://careers.google.com/jobs/results/6410163873579008-program-manager-hardware-operations-software-tools/?company=Google&company=YouTube&employment_type=FULL_TIME&hl=en_US&jlo=en_US&page=2&q=softwaresoftware&sort_by=relevance', 'https://careers.google.com/jobs/results/4721897457778688-ux-design-program-manager-hardware/?company=Google&company=YouTube&employment_type=FULL_TIME&hl=en_US&jlo=en_US&page=2&q=softwaresoftware&sort_by=relevance', 'https://careers.google.com/jobs/results/6283250717884416-software-engineer-cloud-sql/?company=Google&company=YouTube&employment_type=FULL_TIME&hl=en_US&jlo=en_US&page=2&q=softwaresoftware&sort_by=relevance', 'https://careers.google.com/jobs/results/5490168047796224-software-engineer/?company=Google&company=YouTube&employment_type=FULL_TIME&hl=en_US&jlo=en_US&page=2&q=softwaresoftware&sort_by=relevance', 'https://careers.google.com/jobs/results/5264513710620672-software-engineer-tools-and-infrastructure/?company=Google&company=YouTube&employment_type=FULL_TIME&hl=en_US&jlo=en_US&page=2&q=softwaresoftware&sort_by=relevance', 'https://careers.google.com/jobs/results/6696990677073920-software-engineer-android/?company=Google&company=YouTube&employment_type=FULL_TIME&hl=en_US&jlo=en_US&page=2&q=softwaresoftware&sort_by=relevance', 'https://careers.google.com/jobs/results/5819748258611200-software-engineer-infrastructure-english/?company=Google&company=YouTube&employment_type=FULL_TIME&hl=en_US&jlo=en_US&page=2&q=softwaresoftware&sort_by=relevance', 'https://careers.google.com/jobs/results/4834435505782784-software-engineer-embedded-systems/?company=Google&company=YouTube&employment_type=FULL_TIME&hl=en_US&jlo=en_US&page=2&q=softwaresoftware&sort_by=relevance']\n"
     ]
    }
   ],
   "source": [
    "# Open Google job search page.\n",
    "google_job_search_url = r'https://careers.google.com/jobs/results/?company=Google&company=YouTube&employment_type=FULL_TIME&hl=en_US&jlo=en_US&q=software&sort_by=relevance'\n",
    "driver.get(google_job_search_url);\n",
    "\n",
    "# Type 'software' as the keyword in the searchbox and press RETURN.\n",
    "searchbox_name = 'q'\n",
    "driver.find_element_by_name(searchbox_name).send_keys('software')\n",
    "driver.find_element_by_name(searchbox_name).send_keys(Keys.RETURN)\n",
    "\n",
    "# Loop until there's no `next` hyperlink.\n",
    "wait = WebDriverWait(driver, timeout=10)\n",
    "urls = []\n",
    "\n",
    "while True:\n",
    "    try:\n",
    "        wait.until(ec.presence_of_element_located((By.ID, 'search-results')))\n",
    "        wait.until(ec.presence_of_element_located((By.XPATH, \"//a[@data-gtm-ref='job-results-card']\")))\n",
    "        \n",
    "        result_pane = driver.find_element_by_id('search-results')\n",
    "        cards = result_pane.find_elements_by_xpath(\"//a[@data-gtm-ref='job-results-card']\")\n",
    "        \n",
    "        for card in cards:\n",
    "            urls.append(card.get_attribute('href'))\n",
    "        \n",
    "        # If `next` cannot be found after `timeout` seconds, it will throw a TimeoutException\n",
    "        # then we can break the loop.\n",
    "        wait.until(ec.presence_of_element_located((By.XPATH, \"//a[@data-gtm-ref='search-results-next-click']\")))\n",
    "        \n",
    "        # Click on `next`\n",
    "        driver.find_element_by_xpath(\"//a[@data-gtm-ref='search-results-next-click']\").send_keys(Keys.RETURN)\n",
    "    except:\n",
    "        break\n",
    "\n",
    "print(urls)"
   ]
  },
  {
   "cell_type": "code",
   "execution_count": 25,
   "metadata": {},
   "outputs": [
    {
     "data": {
      "text/plain": [
       "[<__main__.GoogleJob at 0x7fe12f7eb7f0>,\n",
       " <__main__.GoogleJob at 0x7fe12f7eb2e8>,\n",
       " <__main__.GoogleJob at 0x7fe12f7eb668>,\n",
       " <__main__.GoogleJob at 0x7fe12f7eb470>,\n",
       " <__main__.GoogleJob at 0x7fe12f7eb748>,\n",
       " <__main__.GoogleJob at 0x7fe12f7eb278>,\n",
       " <__main__.GoogleJob at 0x7fe12f7eb6a0>,\n",
       " <__main__.GoogleJob at 0x7fe12f7eb128>,\n",
       " <__main__.GoogleJob at 0x7fe12f7eb630>,\n",
       " <__main__.GoogleJob at 0x7fe12f7eb160>,\n",
       " <__main__.GoogleJob at 0x7fe12f7eb390>,\n",
       " <__main__.GoogleJob at 0x7fe12f7eb400>,\n",
       " <__main__.GoogleJob at 0x7fe12f7eb908>,\n",
       " <__main__.GoogleJob at 0x7fe12f7eb828>,\n",
       " <__main__.GoogleJob at 0x7fe12f7eb8d0>,\n",
       " <__main__.GoogleJob at 0x7fe12f7eb7b8>,\n",
       " <__main__.GoogleJob at 0x7fe12f7eb940>,\n",
       " <__main__.GoogleJob at 0x7fe12f7eb9b0>,\n",
       " <__main__.GoogleJob at 0x7fe12f7eba58>,\n",
       " <__main__.GoogleJob at 0x7fe12f7eb9e8>,\n",
       " <__main__.GoogleJob at 0x7fe12f7eba20>,\n",
       " <__main__.GoogleJob at 0x7fe12f7eb978>,\n",
       " <__main__.GoogleJob at 0x7fe12f7eba90>,\n",
       " <__main__.GoogleJob at 0x7fe12f7ebb38>,\n",
       " <__main__.GoogleJob at 0x7fe12f7ebb70>,\n",
       " <__main__.GoogleJob at 0x7fe12f7ebcf8>,\n",
       " <__main__.GoogleJob at 0x7fe12f7ebcc0>,\n",
       " <__main__.GoogleJob at 0x7fe12f7ebc50>,\n",
       " <__main__.GoogleJob at 0x7fe12f7ebc88>,\n",
       " <__main__.GoogleJob at 0x7fe12f7ebba8>,\n",
       " <__main__.GoogleJob at 0x7fe12f7ebbe0>,\n",
       " <__main__.GoogleJob at 0x7fe12f7ebb00>,\n",
       " <__main__.GoogleJob at 0x7fe12f7ebac8>,\n",
       " <__main__.GoogleJob at 0x7fe12f7eb358>,\n",
       " <__main__.GoogleJob at 0x7fe12f7ebd30>,\n",
       " <__main__.GoogleJob at 0x7fe12f7ebdd8>,\n",
       " <__main__.GoogleJob at 0x7fe12f7ebe80>,\n",
       " <__main__.GoogleJob at 0x7fe12f7ebeb8>,\n",
       " <__main__.GoogleJob at 0x7fe12f7eb0f0>,\n",
       " <__main__.GoogleJob at 0x7fe12f7ebf98>,\n",
       " <__main__.GoogleJob at 0x7fe12f7ebda0>,\n",
       " <__main__.GoogleJob at 0x7fe12f7ebe10>,\n",
       " <__main__.GoogleJob at 0x7fe12f7eb438>,\n",
       " <__main__.GoogleJob at 0x7fe12f7ebe48>,\n",
       " <__main__.GoogleJob at 0x7fe12f7eb4a8>,\n",
       " <__main__.GoogleJob at 0x7fe12f7eb240>,\n",
       " <__main__.GoogleJob at 0x7fe12f7ebf28>,\n",
       " <__main__.GoogleJob at 0x7fe12f7ebfd0>,\n",
       " <__main__.GoogleJob at 0x7fe12f7ebf60>,\n",
       " <__main__.GoogleJob at 0x7fe12f7eb518>,\n",
       " <__main__.GoogleJob at 0x7fe16239dbe0>,\n",
       " <__main__.GoogleJob at 0x7fe15c0f3ef0>,\n",
       " <__main__.GoogleJob at 0x7fe12f7eb780>,\n",
       " <__main__.GoogleJob at 0x7fe12f7ebef0>,\n",
       " <__main__.GoogleJob at 0x7fe12f7ebc18>,\n",
       " <__main__.GoogleJob at 0x7fe12f7eb0b8>,\n",
       " <__main__.GoogleJob at 0x7fe12f7ebd68>,\n",
       " <__main__.GoogleJob at 0x7fe1622d2470>,\n",
       " <__main__.GoogleJob at 0x7fe1622d2400>,\n",
       " <__main__.GoogleJob at 0x7fe1622d2588>,\n",
       " <__main__.GoogleJob at 0x7fe1622d2438>,\n",
       " <__main__.GoogleJob at 0x7fe1622d2550>,\n",
       " <__main__.GoogleJob at 0x7fe1622d2390>,\n",
       " <__main__.GoogleJob at 0x7fe12f7eb860>,\n",
       " <__main__.GoogleJob at 0x7fe1622d22b0>,\n",
       " <__main__.GoogleJob at 0x7fe1622d24a8>,\n",
       " <__main__.GoogleJob at 0x7fe1622d2518>,\n",
       " <__main__.GoogleJob at 0x7fe1622d23c8>,\n",
       " <__main__.GoogleJob at 0x7fe1622c2080>,\n",
       " <__main__.GoogleJob at 0x7fe1622c2cf8>,\n",
       " <__main__.GoogleJob at 0x7fe1622c29b0>,\n",
       " <__main__.GoogleJob at 0x7fe1622c2c50>,\n",
       " <__main__.GoogleJob at 0x7fe1622c2d68>,\n",
       " <__main__.GoogleJob at 0x7fe1622d2240>,\n",
       " <__main__.GoogleJob at 0x7fe1622d24e0>,\n",
       " <__main__.GoogleJob at 0x7fe1622c2da0>,\n",
       " <__main__.GoogleJob at 0x7fe1622c25c0>,\n",
       " <__main__.GoogleJob at 0x7fe1622d6240>,\n",
       " <__main__.GoogleJob at 0x7fe1622d65c0>,\n",
       " <__main__.GoogleJob at 0x7fe1622d6470>,\n",
       " <__main__.GoogleJob at 0x7fe1622d6898>,\n",
       " <__main__.GoogleJob at 0x7fe1622d6a20>,\n",
       " <__main__.GoogleJob at 0x7fe1622d6d30>,\n",
       " <__main__.GoogleJob at 0x7fe1622d6748>,\n",
       " <__main__.GoogleJob at 0x7fe1622d6c88>,\n",
       " <__main__.GoogleJob at 0x7fe1622d6c50>,\n",
       " <__main__.GoogleJob at 0x7fe1622d6550>,\n",
       " <__main__.GoogleJob at 0x7fe1622d6b70>,\n",
       " <__main__.GoogleJob at 0x7fe1622d6b38>,\n",
       " <__main__.GoogleJob at 0x7fe1622d6d68>,\n",
       " <__main__.GoogleJob at 0x7fe1622d6ef0>,\n",
       " <__main__.GoogleJob at 0x7fe1622d6860>,\n",
       " <__main__.GoogleJob at 0x7fe1622d63c8>,\n",
       " <__main__.GoogleJob at 0x7fe1622d6be0>,\n",
       " <__main__.GoogleJob at 0x7fe1622d6160>,\n",
       " <__main__.GoogleJob at 0x7fe1622d6cf8>,\n",
       " <__main__.GoogleJob at 0x7fe1622c2630>,\n",
       " <__main__.GoogleJob at 0x7fe1622d6e10>,\n",
       " <__main__.GoogleJob at 0x7fe1622d6e80>,\n",
       " <__main__.GoogleJob at 0x7fe1622d6a58>,\n",
       " <__main__.GoogleJob at 0x7fe1622d6f28>,\n",
       " <__main__.GoogleJob at 0x7fe1622d6c18>,\n",
       " <__main__.GoogleJob at 0x7fe12f79c208>,\n",
       " <__main__.GoogleJob at 0x7fe12f79c048>,\n",
       " <__main__.GoogleJob at 0x7fe12f79c3c8>,\n",
       " <__main__.GoogleJob at 0x7fe12f79c0b8>,\n",
       " <__main__.GoogleJob at 0x7fe12f79c0f0>,\n",
       " <__main__.GoogleJob at 0x7fe12f79c320>,\n",
       " <__main__.GoogleJob at 0x7fe12f79c400>,\n",
       " <__main__.GoogleJob at 0x7fe12f79c240>,\n",
       " <__main__.GoogleJob at 0x7fe12f79c128>,\n",
       " <__main__.GoogleJob at 0x7fe12f79c1d0>,\n",
       " <__main__.GoogleJob at 0x7fe12f79c198>,\n",
       " <__main__.GoogleJob at 0x7fe12f79c438>,\n",
       " <__main__.GoogleJob at 0x7fe12f79c470>,\n",
       " <__main__.GoogleJob at 0x7fe12f79c4a8>,\n",
       " <__main__.GoogleJob at 0x7fe12f79c4e0>,\n",
       " <__main__.GoogleJob at 0x7fe12f79c518>,\n",
       " <__main__.GoogleJob at 0x7fe12f79c550>]"
      ]
     },
     "execution_count": 25,
     "metadata": {},
     "output_type": "execute_result"
    }
   ],
   "source": [
    "# For each url in urls, scrape_url(). This could take a moment.\n",
    "jobs = [scrape_url(url, wait) for url in urls]\n",
    "driver.quit()\n",
    "jobs"
   ]
  },
  {
   "cell_type": "code",
   "execution_count": 26,
   "metadata": {},
   "outputs": [
    {
     "name": "stdout",
     "output_type": "stream",
     "text": [
      "File written: google_jobs.csv\n"
     ]
    }
   ],
   "source": [
    "csv_file = 'google_jobs.csv'\n",
    "\n",
    "with open(csv_file, 'w') as f:\n",
    "    w = csv.DictWriter(f, vars(jobs[0]).keys())\n",
    "    w.writeheader()\n",
    "    \n",
    "    for job in jobs:\n",
    "        w.writerow(vars(job))\n",
    "    \n",
    "print('File written: ' + csv_file)"
   ]
  },
  {
   "cell_type": "code",
   "execution_count": null,
   "metadata": {},
   "outputs": [],
   "source": []
  }
 ],
 "metadata": {
  "kernelspec": {
   "display_name": "Python 3",
   "language": "python",
   "name": "python3"
  },
  "language_info": {
   "codemirror_mode": {
    "name": "ipython",
    "version": 3
   },
   "file_extension": ".py",
   "mimetype": "text/x-python",
   "name": "python",
   "nbconvert_exporter": "python",
   "pygments_lexer": "ipython3",
   "version": "3.7.1"
  }
 },
 "nbformat": 4,
 "nbformat_minor": 2
}
