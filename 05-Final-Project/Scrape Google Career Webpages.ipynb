{
 "cells": [
  {
   "cell_type": "markdown",
   "metadata": {},
   "source": [
    "# Scraping Google Career Webpages"
   ]
  },
  {
   "cell_type": "markdown",
   "metadata": {},
   "source": [
    "## Prerequisites\n",
    "* selenium\n",
    "* one of the following (depending on which browser you're using)\n",
    "  * firefox: [geckodriver](https://github.com/mozilla/geckodriver/releases/)\n",
    "  * chrome/chromium: [chromedriver](http://chromedriver.chromium.org/)\n",
    "  \n",
    "## Useful Tutorials\n",
    "* https://huilansame.github.io/huilansame.github.io/archivers/sleep-implicitlywait-wait\n",
    "* https://wangxin1248.github.io/python/2018/09/python3-spider-8.html"
   ]
  },
  {
   "cell_type": "code",
   "execution_count": 83,
   "metadata": {},
   "outputs": [],
   "source": [
    "class GoogleJob:\n",
    "    \"\"\" Wraps job title, location, minimum/preferred qualifications and responsibilities \"\"\"\n",
    "    def __init__(self, title, location, minimum_qual, preferred_qual, responsibilities):\n",
    "        self.title = title\n",
    "        self.location = location\n",
    "        self.minimum_qual = minimum_qual\n",
    "        self.preferred_qual = preferred_qual\n",
    "        self.responsibilities = responsibilities"
   ]
  },
  {
   "cell_type": "code",
   "execution_count": 84,
   "metadata": {},
   "outputs": [],
   "source": [
    "def extract(class_name: str):\n",
    "    \"\"\" Extracts the specified element by class name \"\"\"\n",
    "    return driver.find_element_by_class_name(class_name).text"
   ]
  },
  {
   "cell_type": "markdown",
   "metadata": {},
   "source": [
    "## Test on the following page\n",
    "https://careers.google.com/jobs/results/6163626811654144-front-end-software-engineer/?company=Google&company=YouTube&employment_type=FULL_TIME&hl=en_US&jlo=en_US&q=software&sort_by=relevance"
   ]
  },
  {
   "cell_type": "code",
   "execution_count": 85,
   "metadata": {},
   "outputs": [],
   "source": [
    "from selenium.webdriver import Firefox\n",
    "from selenium.webdriver.common.by import By\n",
    "from selenium.webdriver.common.keys import Keys\n",
    "from selenium.webdriver.firefox.options import Options\n",
    "from selenium.webdriver.support import expected_conditions as expected\n",
    "from selenium.webdriver.support.wait import WebDriverWait"
   ]
  },
  {
   "cell_type": "code",
   "execution_count": 86,
   "metadata": {},
   "outputs": [],
   "source": [
    "url = r'https://careers.google.com/jobs/results/6163626811654144-front-end-software-engineer/?company=Google&company=YouTube&employment_type=FULL_TIME&hl=en_US&jlo=en_US&q=software&sort_by=relevance'\n",
    "\n",
    "options = Options()\n",
    "options.add_argument('-headless')\n",
    "\n",
    "driver = Firefox(executable_path='/opt/firefox/geckodriver', options=options)\n",
    "wait = WebDriverWait(driver, timeout=10)\n",
    "\n",
    "driver.get(url)\n",
    "time.sleep(3) # Temporarily using stupid sleep approach."
   ]
  },
  {
   "cell_type": "code",
   "execution_count": 87,
   "metadata": {},
   "outputs": [
    {
     "name": "stdout",
     "output_type": "stream",
     "text": [
      "{'title': 'Front End Software Engineer', 'location': 'Pittsburgh, PA, USA', 'minimum_qual': 'BA/BS degree or equivalent practical experience.\\n1 year of work experience in software development.\\nExperience with server-side web frameworks such as JSP or ASP.Net.\\nDevelopment experience in C, C++ or Java and experience designing modular, object-oriented JavaScript.', 'preferred_qual': '4 years of relevant work experience, including web application experience or skills using AJAX, HTML, CSS or JavaScript.\\nProgramming experience in GWT.\\nExperience with user interface frameworks such as XUL, Flex, AJAX, and XAML.\\nKnowledge of user interface design.', 'responsibilities': \"Build next-generation web applications with a focus on the client side.\\nRedesign UI's, Implement new UI's, and pick up Java as necessary.\\nEngage with back-end systems.\"}\n"
     ]
    }
   ],
   "source": [
    "title = extract('gc-card__title')\n",
    "location = extract('gc-job-tags__location')\n",
    "qualifications = extract('gc-job-qualifications').split('\\n\\n')\n",
    "minimum_qual = qualifications[0].replace('Minimum qualifications:\\n', '')\n",
    "preferred_qual = qualifications[1].replace('Preferred qualifications:\\n', '')\n",
    "responsibilities = extract('gc-job-detail__section--responsibilities').replace('Responsibilities\\n', '', 1)\n",
    "\n",
    "job = GoogleJob(title, location, minimum_qual, preferred_qual, responsibilities)\n",
    "print(vars(job))\n",
    "\n",
    "driver.quit()"
   ]
  },
  {
   "cell_type": "markdown",
   "metadata": {},
   "source": [
    "## Write the dict to a Csv File"
   ]
  },
  {
   "cell_type": "code",
   "execution_count": 88,
   "metadata": {},
   "outputs": [
    {
     "name": "stdout",
     "output_type": "stream",
     "text": [
      "File written to: google_jobs.csv\n"
     ]
    }
   ],
   "source": [
    "csv_file = 'google_jobs.csv'\n",
    "job_dict = vars(job)\n",
    "\n",
    "with open(csv_file, 'w') as f:\n",
    "    w = csv.DictWriter(f, job_dict.keys())\n",
    "    w.writeheader()\n",
    "    w.writerow(job_dict)\n",
    "    \n",
    "print('File written to: ' + csv_file)"
   ]
  },
  {
   "cell_type": "markdown",
   "metadata": {},
   "source": [
    "## Csv to Pandas DataFrame"
   ]
  },
  {
   "cell_type": "code",
   "execution_count": 89,
   "metadata": {},
   "outputs": [],
   "source": [
    "import pandas"
   ]
  },
  {
   "cell_type": "code",
   "execution_count": 90,
   "metadata": {},
   "outputs": [
    {
     "data": {
      "text/html": [
       "<div>\n",
       "<style scoped>\n",
       "    .dataframe tbody tr th:only-of-type {\n",
       "        vertical-align: middle;\n",
       "    }\n",
       "\n",
       "    .dataframe tbody tr th {\n",
       "        vertical-align: top;\n",
       "    }\n",
       "\n",
       "    .dataframe thead th {\n",
       "        text-align: right;\n",
       "    }\n",
       "</style>\n",
       "<table border=\"1\" class=\"dataframe\">\n",
       "  <thead>\n",
       "    <tr style=\"text-align: right;\">\n",
       "      <th></th>\n",
       "      <th>title</th>\n",
       "      <th>location</th>\n",
       "      <th>minimum_qual</th>\n",
       "      <th>preferred_qual</th>\n",
       "      <th>responsibilities</th>\n",
       "    </tr>\n",
       "  </thead>\n",
       "  <tbody>\n",
       "    <tr>\n",
       "      <th>0</th>\n",
       "      <td>Front End Software Engineer</td>\n",
       "      <td>Pittsburgh, PA, USA</td>\n",
       "      <td>BA/BS degree or equivalent practical experienc...</td>\n",
       "      <td>4 years of relevant work experience, including...</td>\n",
       "      <td>Build next-generation web applications with a ...</td>\n",
       "    </tr>\n",
       "  </tbody>\n",
       "</table>\n",
       "</div>"
      ],
      "text/plain": [
       "                         title             location  \\\n",
       "0  Front End Software Engineer  Pittsburgh, PA, USA   \n",
       "\n",
       "                                        minimum_qual  \\\n",
       "0  BA/BS degree or equivalent practical experienc...   \n",
       "\n",
       "                                      preferred_qual  \\\n",
       "0  4 years of relevant work experience, including...   \n",
       "\n",
       "                                    responsibilities  \n",
       "0  Build next-generation web applications with a ...  "
      ]
     },
     "execution_count": 90,
     "metadata": {},
     "output_type": "execute_result"
    }
   ],
   "source": [
    "dat = pandas.read_csv(csv_file)\n",
    "dat"
   ]
  },
  {
   "cell_type": "code",
   "execution_count": null,
   "metadata": {},
   "outputs": [],
   "source": []
  }
 ],
 "metadata": {
  "kernelspec": {
   "display_name": "Python 3",
   "language": "python",
   "name": "python3"
  },
  "language_info": {
   "codemirror_mode": {
    "name": "ipython",
    "version": 3
   },
   "file_extension": ".py",
   "mimetype": "text/x-python",
   "name": "python",
   "nbconvert_exporter": "python",
   "pygments_lexer": "ipython3",
   "version": "3.7.1"
  }
 },
 "nbformat": 4,
 "nbformat_minor": 2
}
