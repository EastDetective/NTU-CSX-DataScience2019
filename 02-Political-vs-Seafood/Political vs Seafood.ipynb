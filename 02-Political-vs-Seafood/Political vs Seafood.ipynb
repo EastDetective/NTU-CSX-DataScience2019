{
 "cells": [
  {
   "cell_type": "markdown",
   "metadata": {},
   "source": [
    "# 韓國瑜新聞（政治） vs  妙禪新聞（社會/生活）\n",
    "來看看新聞分類與新聞內容的 relations\n",
    "\n",
    "* docClass: politics, seafood    \n",
    "* className: politics, social, lifestyle"
   ]
  },
  {
   "cell_type": "markdown",
   "metadata": {},
   "source": [
    "### Step 0. Preprocessing"
   ]
  },
  {
   "cell_type": "code",
   "execution_count": 22,
   "metadata": {},
   "outputs": [],
   "source": [
    "from collections import Counter\n",
    "import jieba\n",
    "import matplotlib.pyplot as plt\n",
    "%matplotlib inline\n",
    "import numpy as np\n",
    "import pandas as pd\n",
    "from pandas import DataFrame, read_csv\n",
    "import os\n",
    "import sys\n",
    "sys.path.insert(0, '../modules/')\n",
    "\n",
    "from fintextmin import *  # 使用 modules 中的 fintextmin 模組"
   ]
  },
  {
   "cell_type": "code",
   "execution_count": 23,
   "metadata": {},
   "outputs": [
    {
     "data": {
      "text/plain": [
       "['social', 'lifestyle', 'politics']"
      ]
     },
     "execution_count": 23,
     "metadata": {},
     "output_type": "execute_result"
    }
   ],
   "source": [
    "news_class = os.listdir('data/.')\n",
    "news_class"
   ]
  },
  {
   "cell_type": "code",
   "execution_count": 21,
   "metadata": {},
   "outputs": [
    {
     "name": "stdout",
     "output_type": "stream",
     "text": [
      "Document count: politics(12), lifestyle(10), social(2)\n"
     ]
    }
   ],
   "source": [
    "politics_text_list = read_text_folder('data/politics/')\n",
    "lifestyle_text_list = read_text_folder('data/lifestyle/')\n",
    "social_text_list = read_text_folder('data/social/')\n",
    "\n",
    "print('Document count: politics({}), lifestyle({}), social({})'.format(\n",
    "        len(politics_text_list), len(lifestyle_text_list), len(social_text_list)))"
   ]
  },
  {
   "cell_type": "code",
   "execution_count": 24,
   "metadata": {},
   "outputs": [
    {
     "name": "stdout",
     "output_type": "stream",
     "text": [
      "social\n",
      "lifestyle\n",
      "politics\n"
     ]
    }
   ],
   "source": [
    "all_data = pd.DataFrame(columns=['docClass', 'className', 'docTitle', 'docs'])\n",
    "\n",
    "i = 0\n",
    "for c in news_class:\n",
    "    all_data.loc[i, 'docClass'] = c\n",
    "    all_data.loc[i, 'className'] = "
   ]
  },
  {
   "cell_type": "code",
   "execution_count": null,
   "metadata": {},
   "outputs": [],
   "source": []
  }
 ],
 "metadata": {
  "kernelspec": {
   "display_name": "Python 3",
   "language": "python",
   "name": "python3"
  },
  "language_info": {
   "codemirror_mode": {
    "name": "ipython",
    "version": 3
   },
   "file_extension": ".py",
   "mimetype": "text/x-python",
   "name": "python",
   "nbconvert_exporter": "python",
   "pygments_lexer": "ipython3",
   "version": "3.7.1"
  }
 },
 "nbformat": 4,
 "nbformat_minor": 2
}
